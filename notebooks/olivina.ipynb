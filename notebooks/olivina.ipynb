{
 "cells": [
  {
   "cell_type": "markdown",
   "metadata": {},
   "source": [
    "# Web Scraper for Olivina Men stores"
   ]
  },
  {
   "cell_type": "code",
   "execution_count": 11,
   "metadata": {},
   "outputs": [],
   "source": [
    "from selenium import webdriver\n",
    "from selenium.webdriver.common.keys import Keys\n",
    "from collections import namedtuple\n",
    "import csv"
   ]
  },
  {
   "cell_type": "markdown",
   "metadata": {},
   "source": [
    "### Conect to a Firefox webdriver using Selenium"
   ]
  },
  {
   "cell_type": "code",
   "execution_count": null,
   "metadata": {},
   "outputs": [],
   "source": [
    "driver = webdriver.Firefox()\n",
    "driver.get(\"https://olivinamen.com/pages/store-locator\")"
   ]
  },
  {
   "cell_type": "markdown",
   "metadata": {},
   "source": [
    "### Get a list of the stores"
   ]
  },
  {
   "cell_type": "code",
   "execution_count": 2,
   "metadata": {},
   "outputs": [],
   "source": [
    "store_list_container = driver.find_element_by_id('storemapper-list')\n",
    "store_list = store_list_container.find_elements_by_tag_name('li')"
   ]
  },
  {
   "cell_type": "markdown",
   "metadata": {},
   "source": [
    "### Create a namedtuple to store the data"
   ]
  },
  {
   "cell_type": "code",
   "execution_count": 6,
   "metadata": {},
   "outputs": [],
   "source": [
    "store_info = namedtuple('StoreInfo', 'store_id store_name address phone')"
   ]
  },
  {
   "cell_type": "markdown",
   "metadata": {},
   "source": [
    "### Loop through all the stores and get the information for each"
   ]
  },
  {
   "cell_type": "code",
   "execution_count": 7,
   "metadata": {},
   "outputs": [],
   "source": [
    "store_data = []\n",
    "for store in store_list:\n",
    "    store_id = store.get_attribute('data-idx')\n",
    "    store_name = store.find_element_by_class_name('storemapper-title').text\n",
    "    try:\n",
    "        address = store.find_element_by_class_name('storemapper-address').text\n",
    "    except:\n",
    "        address = \"No address found\"\n",
    "    try:\n",
    "        phone = store.find_element_by_class_name('storemapper-phone').text\n",
    "    except:\n",
    "        phone = \"No phone number found\"\n",
    "    store = store_info(store_id, store_name, address, phone)\n",
    "    store_data.append(store)"
   ]
  },
  {
   "cell_type": "markdown",
   "metadata": {},
   "source": [
    "### Write data to csv file"
   ]
  },
  {
   "cell_type": "code",
   "execution_count": 10,
   "metadata": {},
   "outputs": [],
   "source": [
    "with open('olivinamen.csv', 'w') as f:\n",
    "    w = csv.writer(f)\n",
    "    w.writerow(('store_id', 'store_name', 'address', 'phone_number'))\n",
    "    w.writerows([store.store_id, store.store_name, store.address, store.phone] for store in store_data)"
   ]
  }
 ],
 "metadata": {
  "kernelspec": {
   "display_name": "Python 3",
   "language": "python",
   "name": "python3"
  },
  "language_info": {
   "codemirror_mode": {
    "name": "ipython",
    "version": 3
   },
   "file_extension": ".py",
   "mimetype": "text/x-python",
   "name": "python",
   "nbconvert_exporter": "python",
   "pygments_lexer": "ipython3",
   "version": "3.7.4"
  }
 },
 "nbformat": 4,
 "nbformat_minor": 4
}
